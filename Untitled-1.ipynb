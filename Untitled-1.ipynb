{
 "cells": [
  {
   "cell_type": "code",
   "execution_count": null,
   "metadata": {},
   "outputs": [],
   "source": [
    "\n",
    "import cv2\n",
    "import numpy as np\n",
    "# Load the image (grayscale or color)\n",
    "image = cv2.imread(r\"C:\\Users\\lenovo\\Desktop\\butterfly.jpg\")\n",
    "# Display the original image\n",
    "cv2.imshow('Original Image', image)\n",
    "# Calculate the negative of the image\n",
    "negative_image = cv2.bitwise_not(image)\n",
    "# Alternatively, for manual negative calculation:\n",
    "negative_image = 255 - image\n",
    "# Display the negative image\n",
    "cv2.imshow('Negative Image', negative_image)\n",
    "# Save the negative image\n",
    "cv2.imwrite('negative_image.jpg', negative_image)ju\n",
    "# Wait for a key press and close the image windows\n",
    "cv2.waitKey(0)\n",
    "cv2.destroyAllWindows()"
   ]
  }
 ],
 "metadata": {
  "language_info": {
   "name": "python"
  }
 },
 "nbformat": 4,
 "nbformat_minor": 2
}
